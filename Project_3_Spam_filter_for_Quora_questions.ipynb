{
  "nbformat": 4,
  "nbformat_minor": 0,
  "metadata": {
    "colab": {
      "name": "Project 3 Spam filter for Quora questions.ipynb",
      "provenance": [],
      "collapsed_sections": [],
      "authorship_tag": "ABX9TyOBi3rWONJVluTuBSBjoQeR",
      "include_colab_link": true
    },
    "kernelspec": {
      "name": "python3",
      "display_name": "Python 3"
    },
    "language_info": {
      "name": "python"
    },
    "accelerator": "GPU"
  },
  "cells": [
    {
      "cell_type": "markdown",
      "metadata": {
        "id": "view-in-github",
        "colab_type": "text"
      },
      "source": [
        "<a href=\"https://colab.research.google.com/github/AmbikaRahulSingh/Spam_filter_for_Quora_questions/blob/main/Project_3_Spam_filter_for_Quora_questions.ipynb\" target=\"_parent\"><img src=\"https://colab.research.google.com/assets/colab-badge.svg\" alt=\"Open In Colab\"/></a>"
      ]
    },
    {
      "cell_type": "code",
      "metadata": {
        "id": "5J3V4eQcJ9sj",
        "colab": {
          "base_uri": "https://localhost:8080/"
        },
        "outputId": "5bb60e39-ed8c-4247-e65a-93c399d02f4d"
      },
      "source": [
        "# Importing required libraries\n",
        "\n",
        "import warnings\n",
        "warnings.filterwarnings('ignore')\n",
        "\n",
        "import os\n",
        "import time\n",
        "import pandas as pd\n",
        "import numpy as np\n",
        "import math\n",
        "\n",
        "import tensorflow as tf\n",
        "from tensorflow import keras\n",
        "from tqdm import tqdm\n",
        "\n",
        "from sklearn.model_selection import train_test_split\n",
        "from sklearn import metrics\n",
        "\n",
        "import nltk\n",
        "nltk.download('punkt')\n",
        "from nltk import word_tokenize\n",
        "from tensorflow.keras.preprocessing.text import Tokenizer\n",
        "from tensorflow.keras.preprocessing import sequence\n",
        "from keras.preprocessing.sequence import pad_sequences\n",
        "\n",
        "from tensorflow.keras.layers import LSTM, Activation, Dense, Dropout, Input, Embedding, Conv1D, SpatialDropout1D, Bidirectional,GlobalMaxPool1D\n",
        "from keras import initializers, regularizers, constraints, optimizers, layers\n",
        "from tensorflow.keras.models import Model"
      ],
      "execution_count": 1,
      "outputs": [
        {
          "output_type": "stream",
          "text": [
            "[nltk_data] Downloading package punkt to /root/nltk_data...\n",
            "[nltk_data]   Unzipping tokenizers/punkt.zip.\n"
          ],
          "name": "stdout"
        }
      ]
    },
    {
      "cell_type": "markdown",
      "metadata": {
        "id": "e4OLOzwdTSgl"
      },
      "source": [
        "Glove 840B 300d embeddings"
      ]
    },
    {
      "cell_type": "code",
      "metadata": {
        "id": "p6Jca1JVey9M",
        "colab": {
          "base_uri": "https://localhost:8080/"
        },
        "outputId": "135d1978-4942-4b9a-9d3e-3c42991763e8"
      },
      "source": [
        "!wget http://nlp.stanford.edu/data/glove.840B.300d.zip\n",
        "!unzip glove.840B.300d.zip\n",
        "!rm glove.840B.300d.zip"
      ],
      "execution_count": 2,
      "outputs": [
        {
          "output_type": "stream",
          "text": [
            "--2021-05-24 15:29:23--  http://nlp.stanford.edu/data/glove.840B.300d.zip\n",
            "Resolving nlp.stanford.edu (nlp.stanford.edu)... 171.64.67.140\n",
            "Connecting to nlp.stanford.edu (nlp.stanford.edu)|171.64.67.140|:80... connected.\n",
            "HTTP request sent, awaiting response... 302 Found\n",
            "Location: https://nlp.stanford.edu/data/glove.840B.300d.zip [following]\n",
            "--2021-05-24 15:29:24--  https://nlp.stanford.edu/data/glove.840B.300d.zip\n",
            "Connecting to nlp.stanford.edu (nlp.stanford.edu)|171.64.67.140|:443... connected.\n",
            "HTTP request sent, awaiting response... 301 Moved Permanently\n",
            "Location: http://downloads.cs.stanford.edu/nlp/data/glove.840B.300d.zip [following]\n",
            "--2021-05-24 15:29:24--  http://downloads.cs.stanford.edu/nlp/data/glove.840B.300d.zip\n",
            "Resolving downloads.cs.stanford.edu (downloads.cs.stanford.edu)... 171.64.64.22\n",
            "Connecting to downloads.cs.stanford.edu (downloads.cs.stanford.edu)|171.64.64.22|:80... connected.\n",
            "HTTP request sent, awaiting response... 200 OK\n",
            "Length: 2176768927 (2.0G) [application/zip]\n",
            "Saving to: ‘glove.840B.300d.zip’\n",
            "\n",
            "glove.840B.300d.zip 100%[===================>]   2.03G  4.79MB/s    in 7m 3s   \n",
            "\n",
            "2021-05-24 15:36:28 (4.91 MB/s) - ‘glove.840B.300d.zip’ saved [2176768927/2176768927]\n",
            "\n",
            "Archive:  glove.840B.300d.zip\n",
            "  inflating: glove.840B.300d.txt     \n"
          ],
          "name": "stdout"
        }
      ]
    },
    {
      "cell_type": "code",
      "metadata": {
        "id": "KBEgCfqhRIXx",
        "colab": {
          "base_uri": "https://localhost:8080/"
        },
        "outputId": "538fcb87-02b9-4d79-8451-dc2ae82e92b9"
      },
      "source": [
        "!wget https://www.dropbox.com/sh/kpf9z73woodfssv/AAAwZ5DDt-aHwqZFHYrZ-ZBHa/train.csv"
      ],
      "execution_count": 4,
      "outputs": [
        {
          "output_type": "stream",
          "text": [
            "--2021-05-24 15:37:57--  https://www.dropbox.com/sh/kpf9z73woodfssv/AAAwZ5DDt-aHwqZFHYrZ-ZBHa/train.csv\n",
            "Resolving www.dropbox.com (www.dropbox.com)... 162.125.5.18, 2620:100:601d:18::a27d:512\n",
            "Connecting to www.dropbox.com (www.dropbox.com)|162.125.5.18|:443... connected.\n",
            "HTTP request sent, awaiting response... 301 Moved Permanently\n",
            "Location: /sh/raw/kpf9z73woodfssv/AAAwZ5DDt-aHwqZFHYrZ-ZBHa/train.csv [following]\n",
            "--2021-05-24 15:37:58--  https://www.dropbox.com/sh/raw/kpf9z73woodfssv/AAAwZ5DDt-aHwqZFHYrZ-ZBHa/train.csv\n",
            "Reusing existing connection to www.dropbox.com:443.\n",
            "HTTP request sent, awaiting response... 302 Found\n",
            "Location: https://uc38a7f6508308b38561b8f7284f.dl.dropboxusercontent.com/cd/0/inline/BPGusKcJku9PrixkMZkI3VI4CkF7f3ToHSO2syX66aG2bUaUzKxeYhASUgXebFvL6-gjSMTg1aS8Tj5jNV5FSxSTi8bW4YOm623TS560CnzEgEIPvt0VjJSoWKAs70SxiDUgChfRVAtpokU9ZFD1lLLc/file# [following]\n",
            "--2021-05-24 15:37:58--  https://uc38a7f6508308b38561b8f7284f.dl.dropboxusercontent.com/cd/0/inline/BPGusKcJku9PrixkMZkI3VI4CkF7f3ToHSO2syX66aG2bUaUzKxeYhASUgXebFvL6-gjSMTg1aS8Tj5jNV5FSxSTi8bW4YOm623TS560CnzEgEIPvt0VjJSoWKAs70SxiDUgChfRVAtpokU9ZFD1lLLc/file\n",
            "Resolving uc38a7f6508308b38561b8f7284f.dl.dropboxusercontent.com (uc38a7f6508308b38561b8f7284f.dl.dropboxusercontent.com)... 162.125.5.15, 2620:100:601d:15::a27d:50f\n",
            "Connecting to uc38a7f6508308b38561b8f7284f.dl.dropboxusercontent.com (uc38a7f6508308b38561b8f7284f.dl.dropboxusercontent.com)|162.125.5.15|:443... connected.\n",
            "HTTP request sent, awaiting response... 200 OK\n",
            "Length: 124206772 (118M) [text/plain]\n",
            "Saving to: ‘train.csv’\n",
            "\n",
            "train.csv           100%[===================>] 118.45M  51.9MB/s    in 2.3s    \n",
            "\n",
            "2021-05-24 15:38:01 (51.9 MB/s) - ‘train.csv’ saved [124206772/124206772]\n",
            "\n"
          ],
          "name": "stdout"
        }
      ]
    },
    {
      "cell_type": "code",
      "metadata": {
        "id": "Z22gPXmV_2Te"
      },
      "source": [
        "data=pd.read_csv('/content/train.csv')"
      ],
      "execution_count": 5,
      "outputs": []
    },
    {
      "cell_type": "code",
      "metadata": {
        "id": "W6czW__jP4L6",
        "colab": {
          "base_uri": "https://localhost:8080/"
        },
        "outputId": "fccf02a3-6ea1-4202-c6eb-d91e3ccd5eb4"
      },
      "source": [
        "data.shape"
      ],
      "execution_count": 6,
      "outputs": [
        {
          "output_type": "execute_result",
          "data": {
            "text/plain": [
              "(1306122, 3)"
            ]
          },
          "metadata": {
            "tags": []
          },
          "execution_count": 6
        }
      ]
    },
    {
      "cell_type": "code",
      "metadata": {
        "id": "914rBSmxp0WK",
        "colab": {
          "base_uri": "https://localhost:8080/"
        },
        "outputId": "3023e1dd-dc47-462d-8831-586545d4e2af"
      },
      "source": [
        "data.isnull().sum()"
      ],
      "execution_count": 7,
      "outputs": [
        {
          "output_type": "execute_result",
          "data": {
            "text/plain": [
              "qid              0\n",
              "question_text    0\n",
              "target           0\n",
              "dtype: int64"
            ]
          },
          "metadata": {
            "tags": []
          },
          "execution_count": 7
        }
      ]
    },
    {
      "cell_type": "code",
      "metadata": {
        "id": "1Plm44ynTdN2",
        "colab": {
          "base_uri": "https://localhost:8080/",
          "height": 204
        },
        "outputId": "d3e15b83-446e-4399-a6e6-df6969c657cd"
      },
      "source": [
        "data.head()"
      ],
      "execution_count": 8,
      "outputs": [
        {
          "output_type": "execute_result",
          "data": {
            "text/html": [
              "<div>\n",
              "<style scoped>\n",
              "    .dataframe tbody tr th:only-of-type {\n",
              "        vertical-align: middle;\n",
              "    }\n",
              "\n",
              "    .dataframe tbody tr th {\n",
              "        vertical-align: top;\n",
              "    }\n",
              "\n",
              "    .dataframe thead th {\n",
              "        text-align: right;\n",
              "    }\n",
              "</style>\n",
              "<table border=\"1\" class=\"dataframe\">\n",
              "  <thead>\n",
              "    <tr style=\"text-align: right;\">\n",
              "      <th></th>\n",
              "      <th>qid</th>\n",
              "      <th>question_text</th>\n",
              "      <th>target</th>\n",
              "    </tr>\n",
              "  </thead>\n",
              "  <tbody>\n",
              "    <tr>\n",
              "      <th>0</th>\n",
              "      <td>00002165364db923c7e6</td>\n",
              "      <td>How did Quebec nationalists see their province...</td>\n",
              "      <td>0</td>\n",
              "    </tr>\n",
              "    <tr>\n",
              "      <th>1</th>\n",
              "      <td>000032939017120e6e44</td>\n",
              "      <td>Do you have an adopted dog, how would you enco...</td>\n",
              "      <td>0</td>\n",
              "    </tr>\n",
              "    <tr>\n",
              "      <th>2</th>\n",
              "      <td>0000412ca6e4628ce2cf</td>\n",
              "      <td>Why does velocity affect time? Does velocity a...</td>\n",
              "      <td>0</td>\n",
              "    </tr>\n",
              "    <tr>\n",
              "      <th>3</th>\n",
              "      <td>000042bf85aa498cd78e</td>\n",
              "      <td>How did Otto von Guericke used the Magdeburg h...</td>\n",
              "      <td>0</td>\n",
              "    </tr>\n",
              "    <tr>\n",
              "      <th>4</th>\n",
              "      <td>0000455dfa3e01eae3af</td>\n",
              "      <td>Can I convert montra helicon D to a mountain b...</td>\n",
              "      <td>0</td>\n",
              "    </tr>\n",
              "  </tbody>\n",
              "</table>\n",
              "</div>"
            ],
            "text/plain": [
              "                    qid  ... target\n",
              "0  00002165364db923c7e6  ...      0\n",
              "1  000032939017120e6e44  ...      0\n",
              "2  0000412ca6e4628ce2cf  ...      0\n",
              "3  000042bf85aa498cd78e  ...      0\n",
              "4  0000455dfa3e01eae3af  ...      0\n",
              "\n",
              "[5 rows x 3 columns]"
            ]
          },
          "metadata": {
            "tags": []
          },
          "execution_count": 8
        }
      ]
    },
    {
      "cell_type": "code",
      "metadata": {
        "id": "84g35c1STcZi",
        "colab": {
          "base_uri": "https://localhost:8080/"
        },
        "outputId": "af0850d1-0b67-4ccc-8432-5aff93585073"
      },
      "source": [
        "data['target'].value_counts()"
      ],
      "execution_count": 9,
      "outputs": [
        {
          "output_type": "execute_result",
          "data": {
            "text/plain": [
              "0    1225312\n",
              "1      80810\n",
              "Name: target, dtype: int64"
            ]
          },
          "metadata": {
            "tags": []
          },
          "execution_count": 9
        }
      ]
    },
    {
      "cell_type": "code",
      "metadata": {
        "id": "ZIF9ck_3NnE0"
      },
      "source": [
        "train_df, val_df = train_test_split(data, test_size=0.2, random_state=2)"
      ],
      "execution_count": 10,
      "outputs": []
    },
    {
      "cell_type": "code",
      "metadata": {
        "id": "nKTCJFmPZGbp"
      },
      "source": [
        "# !rm train.csv"
      ],
      "execution_count": 11,
      "outputs": []
    },
    {
      "cell_type": "code",
      "metadata": {
        "id": "Al4LyNjJRVQk"
      },
      "source": [
        "embed_size = 300\n",
        "max_features = 50000\n",
        "maxlen = 100\n",
        "\n",
        "train_X = train_df[\"question_text\"].values\n",
        "val_X = val_df[\"question_text\"].values\n",
        "\n",
        "train_y = train_df[\"target\"].values\n",
        "val_y = val_df[\"target\"].values"
      ],
      "execution_count": 12,
      "outputs": []
    },
    {
      "cell_type": "code",
      "metadata": {
        "id": "NW31FMs4PhCY"
      },
      "source": [
        "tokenizer = Tokenizer(num_words=max_features)\n",
        "tokenizer.fit_on_texts(list(train_X))\n",
        "train_X = tokenizer.texts_to_sequences(train_X)\n",
        "val_X = tokenizer.texts_to_sequences(val_X)\n",
        "\n",
        "train_X = pad_sequences(train_X, maxlen=maxlen)\n",
        "val_X = pad_sequences(val_X, maxlen=maxlen)"
      ],
      "execution_count": 13,
      "outputs": []
    },
    {
      "cell_type": "code",
      "metadata": {
        "colab": {
          "base_uri": "https://localhost:8080/"
        },
        "id": "jWxLuopM_-qi",
        "outputId": "92d01b2a-81f1-4388-e6b4-7be77a03b353"
      },
      "source": [
        "print(train_X.shape, val_X.shape)\n",
        "print(train_y.shape, val_y.shape)"
      ],
      "execution_count": 14,
      "outputs": [
        {
          "output_type": "stream",
          "text": [
            "(1044897, 100) (261225, 100)\n",
            "(1044897,) (261225,)\n"
          ],
          "name": "stdout"
        }
      ]
    },
    {
      "cell_type": "code",
      "metadata": {
        "id": "a16kyScmbbUR"
      },
      "source": [
        "EMBEDDING_FILE = \"/content/glove.840B.300d.txt\""
      ],
      "execution_count": 15,
      "outputs": []
    },
    {
      "cell_type": "code",
      "metadata": {
        "id": "3UDMIX8JRVT5"
      },
      "source": [
        "def get_coefs(word,*arr): return word, np.asarray(arr, dtype='float32')"
      ],
      "execution_count": 16,
      "outputs": []
    },
    {
      "cell_type": "code",
      "metadata": {
        "id": "cWPYvcm0PxnY"
      },
      "source": [
        "embeddings_index = dict(get_coefs(*o.split(\" \")) for o in open(EMBEDDING_FILE))"
      ],
      "execution_count": 17,
      "outputs": []
    },
    {
      "cell_type": "code",
      "metadata": {
        "id": "DvgdCezTPxu7"
      },
      "source": [
        "all_embs = np.stack(embeddings_index.values())\n",
        "emb_mean,emb_std = all_embs.mean(), all_embs.std()\n",
        "embed_size = all_embs.shape[1]"
      ],
      "execution_count": 18,
      "outputs": []
    },
    {
      "cell_type": "code",
      "metadata": {
        "id": "CuNklcUiP6iP"
      },
      "source": [
        "word_index = tokenizer.word_index\n",
        "nb_words = min(max_features, len(word_index))\n",
        "embedding_matrix = np.random.normal(emb_mean, emb_std, (nb_words, embed_size))\n",
        "for word, i in word_index.items():\n",
        "    if i >= max_features: continue\n",
        "    embedding_vector = embeddings_index.get(word)\n",
        "    if embedding_vector is not None: embedding_matrix[i] = embedding_vector"
      ],
      "execution_count": 19,
      "outputs": []
    },
    {
      "cell_type": "code",
      "metadata": {
        "id": "Bu46B2_oZSBQ"
      },
      "source": [
        "# !rm glove.840B.300d.txt"
      ],
      "execution_count": null,
      "outputs": []
    },
    {
      "cell_type": "code",
      "metadata": {
        "id": "1fBN8qfcfEHd",
        "colab": {
          "base_uri": "https://localhost:8080/"
        },
        "outputId": "da5d2a7c-7a60-4558-9561-89e11808e4b3"
      },
      "source": [
        "inputs = Input(shape=(maxlen,))\n",
        "layer = Embedding(max_features, embed_size,mask_zero=True, weights=[embedding_matrix],trainable=False)(inputs)\n",
        "layer = Bidirectional(LSTM(64, return_sequences=True))(layer)\n",
        "layer = GlobalMaxPool1D()(layer)\n",
        "layer = Dense(16, activation=\"relu\")(layer)\n",
        "layer = Dropout(0.1)(layer)\n",
        "layer = Dense(1, activation=\"sigmoid\")(layer)\n",
        "model = Model(inputs=inputs, outputs=layer)\n",
        "model.compile(loss='binary_crossentropy', optimizer='adam', metrics=['accuracy'])\n",
        "print(model.summary())"
      ],
      "execution_count": 20,
      "outputs": [
        {
          "output_type": "stream",
          "text": [
            "Model: \"model\"\n",
            "_________________________________________________________________\n",
            "Layer (type)                 Output Shape              Param #   \n",
            "=================================================================\n",
            "input_1 (InputLayer)         [(None, 100)]             0         \n",
            "_________________________________________________________________\n",
            "embedding (Embedding)        (None, 100, 300)          15000000  \n",
            "_________________________________________________________________\n",
            "bidirectional (Bidirectional (None, 100, 128)          186880    \n",
            "_________________________________________________________________\n",
            "global_max_pooling1d (Global (None, 128)               0         \n",
            "_________________________________________________________________\n",
            "dense (Dense)                (None, 16)                2064      \n",
            "_________________________________________________________________\n",
            "dropout (Dropout)            (None, 16)                0         \n",
            "_________________________________________________________________\n",
            "dense_1 (Dense)              (None, 1)                 17        \n",
            "=================================================================\n",
            "Total params: 15,188,961\n",
            "Trainable params: 188,961\n",
            "Non-trainable params: 15,000,000\n",
            "_________________________________________________________________\n",
            "None\n"
          ],
          "name": "stdout"
        }
      ]
    },
    {
      "cell_type": "code",
      "metadata": {
        "id": "WcyK8YCpP6mS",
        "colab": {
          "base_uri": "https://localhost:8080/"
        },
        "outputId": "547147ac-9de7-49e7-c679-fe5e8eb29455"
      },
      "source": [
        "model.fit(train_X, train_y, batch_size=1000, epochs=1, validation_data=(val_X, val_y))"
      ],
      "execution_count": 24,
      "outputs": [
        {
          "output_type": "stream",
          "text": [
            "1045/1045 [==============================] - 3044s 3s/step - loss: 0.1174 - accuracy: 0.9528 - val_loss: 0.1066 - val_accuracy: 0.9577\n"
          ],
          "name": "stdout"
        },
        {
          "output_type": "execute_result",
          "data": {
            "text/plain": [
              "<tensorflow.python.keras.callbacks.History at 0x7ff08048b590>"
            ]
          },
          "metadata": {
            "tags": []
          },
          "execution_count": 24
        }
      ]
    },
    {
      "cell_type": "code",
      "metadata": {
        "id": "0ZCp2h9NSyNW",
        "colab": {
          "base_uri": "https://localhost:8080/"
        },
        "outputId": "ece3b6d5-2f7f-4012-da2d-436530748576"
      },
      "source": [
        "pred = model.predict([val_X], batch_size=1000, verbose=1)"
      ],
      "execution_count": 25,
      "outputs": [
        {
          "output_type": "stream",
          "text": [
            "262/262 [==============================] - 306s 1s/step\n"
          ],
          "name": "stdout"
        }
      ]
    },
    {
      "cell_type": "code",
      "metadata": {
        "id": "aTKMvO839iqn",
        "colab": {
          "base_uri": "https://localhost:8080/"
        },
        "outputId": "82bfa963-0f96-462a-e76b-9b78ebf136f3"
      },
      "source": [
        "pred.shape"
      ],
      "execution_count": 26,
      "outputs": [
        {
          "output_type": "execute_result",
          "data": {
            "text/plain": [
              "(261225, 1)"
            ]
          },
          "metadata": {
            "tags": []
          },
          "execution_count": 26
        }
      ]
    },
    {
      "cell_type": "code",
      "metadata": {
        "id": "AZlv5QtIxtAd"
      },
      "source": [
        "cutoffs=np.linspace(0.001,0.999,999)\n",
        "\n",
        "from sklearn.metrics import fbeta_score\n",
        "\n",
        "fbetas=[]\n",
        "\n",
        "for cutoff in cutoffs:\n",
        "    \n",
        "    predicted=(pred>cutoff).astype(int)\n",
        "    \n",
        "    fbetas.append(fbeta_score(val_y,predicted,2))\n",
        "    \n",
        "my_cutoff=cutoffs[fbetas==max(fbetas)]\n",
        "\n",
        "# pred_test_y = model.predict([test_X], batch_size=1024, verbose=1)\n",
        "\n",
        "# predictions = (pred_test_y>my_cutoff).astype(int)\n",
        "\n",
        "# pd.Series(predictions).value_counts()\n",
        "\n",
        "# submission = pd.DataFrame({\"qid\":val_df[\"qid\"].values})\n",
        "\n",
        "# submission['prediction'] = predictions\n",
        "\n",
        "# submission.to_csv(('Ambika_Tupakula_P3.csv', index=False)\n",
        "\n",
        "# note: preprocessing of test_X...needed before predicting"
      ],
      "execution_count": 27,
      "outputs": []
    },
    {
      "cell_type": "code",
      "metadata": {
        "colab": {
          "base_uri": "https://localhost:8080/"
        },
        "id": "v3S37Cg6QQt3",
        "outputId": "fbdae809-bb2f-443c-fa2a-d8caa8984420"
      },
      "source": [
        "my_cutoff"
      ],
      "execution_count": 28,
      "outputs": [
        {
          "output_type": "execute_result",
          "data": {
            "text/plain": [
              "array([0.136])"
            ]
          },
          "metadata": {
            "tags": []
          },
          "execution_count": 28
        }
      ]
    },
    {
      "cell_type": "code",
      "metadata": {
        "id": "RiqXsg01-_YZ"
      },
      "source": [
        "pred = (pred>my_cutoff).astype(int)"
      ],
      "execution_count": 29,
      "outputs": []
    },
    {
      "cell_type": "code",
      "metadata": {
        "id": "NMUMFQMV9kn6",
        "colab": {
          "base_uri": "https://localhost:8080/"
        },
        "outputId": "e6e2b70c-d288-45f3-a711-76e88e4537aa"
      },
      "source": [
        "np.unique(pred,return_counts=True)"
      ],
      "execution_count": 33,
      "outputs": [
        {
          "output_type": "execute_result",
          "data": {
            "text/plain": [
              "(array([0, 1]), array([233123,  28102]))"
            ]
          },
          "metadata": {
            "tags": []
          },
          "execution_count": 33
        }
      ]
    },
    {
      "cell_type": "code",
      "metadata": {
        "id": "rT1h29MV-G2p"
      },
      "source": [
        "pred=pred.astype(int)"
      ],
      "execution_count": 34,
      "outputs": []
    },
    {
      "cell_type": "code",
      "metadata": {
        "id": "rVFdRTyGrV3M"
      },
      "source": [
        "from sklearn.metrics import roc_auc_score"
      ],
      "execution_count": 35,
      "outputs": []
    },
    {
      "cell_type": "code",
      "metadata": {
        "id": "hgd6LkVbMwcB"
      },
      "source": [
        "score = roc_auc_score(val_y,pred)"
      ],
      "execution_count": 36,
      "outputs": []
    },
    {
      "cell_type": "code",
      "metadata": {
        "colab": {
          "base_uri": "https://localhost:8080/"
        },
        "id": "TvCfveFKcbdA",
        "outputId": "c8e25a17-1d1d-48c0-9461-47811a8f6bd5"
      },
      "source": [
        "score"
      ],
      "execution_count": 37,
      "outputs": [
        {
          "output_type": "execute_result",
          "data": {
            "text/plain": [
              "0.8868453077213354"
            ]
          },
          "metadata": {
            "tags": []
          },
          "execution_count": 37
        }
      ]
    },
    {
      "cell_type": "code",
      "metadata": {
        "id": "JXAC2r-JQtaa"
      },
      "source": [
        "# Saving the model \n",
        "\n",
        "from tensorflow.keras.models import model_from_json\n",
        "\n",
        "model_json = model.to_json()\n",
        "\n",
        "with open(\"model.json\", \"w\") as json_file:\n",
        "\n",
        "    json_file.write(model_json)\n",
        "\n",
        "model.save_weights('model_weights.h5',overwrite = True)\n"
      ],
      "execution_count": 38,
      "outputs": []
    },
    {
      "cell_type": "code",
      "metadata": {
        "id": "FH3dRPxrQtdv",
        "colab": {
          "base_uri": "https://localhost:8080/"
        },
        "outputId": "e55393b5-e56a-49db-a489-6454493001b6"
      },
      "source": [
        "# loading the model \n",
        "\n",
        "from tensorflow.keras.models import model_from_json\n",
        "\n",
        "json_file = open('model.json', 'r')\n",
        "\n",
        "loaded_model_json = json_file.read()\n",
        "json_file.close()\n",
        "\n",
        "loaded_model = model_from_json(loaded_model_json)\n",
        "\n",
        "loaded_model.summary()\n",
        "\n",
        "loaded_model.load_weights('model_weights.h5')\n"
      ],
      "execution_count": 39,
      "outputs": [
        {
          "output_type": "stream",
          "text": [
            "Model: \"model\"\n",
            "_________________________________________________________________\n",
            "Layer (type)                 Output Shape              Param #   \n",
            "=================================================================\n",
            "input_1 (InputLayer)         [(None, 100)]             0         \n",
            "_________________________________________________________________\n",
            "embedding (Embedding)        (None, 100, 300)          15000000  \n",
            "_________________________________________________________________\n",
            "bidirectional (Bidirectional (None, 100, 128)          186880    \n",
            "_________________________________________________________________\n",
            "global_max_pooling1d (Global (None, 128)               0         \n",
            "_________________________________________________________________\n",
            "dense (Dense)                (None, 16)                2064      \n",
            "_________________________________________________________________\n",
            "dropout (Dropout)            (None, 16)                0         \n",
            "_________________________________________________________________\n",
            "dense_1 (Dense)              (None, 1)                 17        \n",
            "=================================================================\n",
            "Total params: 15,188,961\n",
            "Trainable params: 188,961\n",
            "Non-trainable params: 15,000,000\n",
            "_________________________________________________________________\n"
          ],
          "name": "stdout"
        }
      ]
    }
  ]
}